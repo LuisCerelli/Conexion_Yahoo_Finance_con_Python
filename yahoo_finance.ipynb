{
 "cells": [
  {
   "cell_type": "code",
   "execution_count": 4,
   "metadata": {},
   "outputs": [],
   "source": [
    "import yfinance as yf\n",
    "import pandas as pd\n"
   ]
  },
  {
   "cell_type": "code",
   "execution_count": 5,
   "metadata": {},
   "outputs": [],
   "source": [
    "#Ahora anotamos el pnemotecnico, el cual lo encontraremos yendo a la pagina de yahooFinance y colocando en su barra de búsqueda el nombre de la empresa , por ejemplo, si ponemos 'Tesla' nos devuelve 'TSLA'\n",
    "\n",
    "simbolo = 'TSLA'\n",
    "\n",
    "#aqui usamos la funcion Ticker de yf, usando como parametro el pnemotecnico guardado en la variable\n",
    "tesla = yf.Ticker(simbolo)"
   ]
  },
  {
   "cell_type": "code",
   "execution_count": 6,
   "metadata": {},
   "outputs": [
    {
     "name": "stderr",
     "output_type": "stream",
     "text": [
      "TSLA: No price data found, symbol may be delisted (1d 1925-10-01 -> 2024-09-07)\n"
     ]
    },
    {
     "data": {
      "text/html": [
       "<div>\n",
       "<style scoped>\n",
       "    .dataframe tbody tr th:only-of-type {\n",
       "        vertical-align: middle;\n",
       "    }\n",
       "\n",
       "    .dataframe tbody tr th {\n",
       "        vertical-align: top;\n",
       "    }\n",
       "\n",
       "    .dataframe thead th {\n",
       "        text-align: right;\n",
       "    }\n",
       "</style>\n",
       "<table border=\"1\" class=\"dataframe\">\n",
       "  <thead>\n",
       "    <tr style=\"text-align: right;\">\n",
       "      <th></th>\n",
       "      <th>Open</th>\n",
       "      <th>High</th>\n",
       "      <th>Low</th>\n",
       "      <th>Close</th>\n",
       "      <th>Adj Close</th>\n",
       "      <th>Volume</th>\n",
       "    </tr>\n",
       "    <tr>\n",
       "      <th>Date</th>\n",
       "      <th></th>\n",
       "      <th></th>\n",
       "      <th></th>\n",
       "      <th></th>\n",
       "      <th></th>\n",
       "      <th></th>\n",
       "    </tr>\n",
       "  </thead>\n",
       "  <tbody>\n",
       "  </tbody>\n",
       "</table>\n",
       "</div>"
      ],
      "text/plain": [
       "Empty DataFrame\n",
       "Columns: [Open, High, Low, Close, Adj Close, Volume]\n",
       "Index: []"
      ]
     },
     "execution_count": 6,
     "metadata": {},
     "output_type": "execute_result"
    }
   ],
   "source": [
    "#ahora le pedimos el precio historico, usando la funcion history, cuyo unico parametro es period, le pediremos la mayor cantidad de tiempo que tenga en sus registros\n",
    "\n",
    "tesla.history(period='max')\n"
   ]
  },
  {
   "cell_type": "code",
   "execution_count": 10,
   "metadata": {},
   "outputs": [
    {
     "name": "stderr",
     "output_type": "stream",
     "text": [
      "TSLA: No price data found, symbol may be delisted (1d 2024-08-08 08:55:45.095276 -> 2024-09-07 08:55:45.095282)\n"
     ]
    },
    {
     "name": "stdout",
     "output_type": "stream",
     "text": [
      "No se encontraron datos para TSLA en el período especificado.\n",
      "No se pudieron obtener los datos. Verifica el símbolo o intenta con un período diferente.\n"
     ]
    }
   ],
   "source": [
    "import yfinance as yf\n",
    "import pandas as pd\n",
    "from datetime import datetime, timedelta\n",
    "\n",
    "def get_stock_data(symbol, start_date=None, end_date=None):\n",
    "    if start_date is None:\n",
    "        start_date = datetime.now() - timedelta(days=30)  # Último año\n",
    "    if end_date is None:\n",
    "        end_date = datetime.now()\n",
    "    \n",
    "    try:\n",
    "        stock = yf.Ticker(symbol)\n",
    "        df = stock.history(start=start_date, end=end_date)\n",
    "        \n",
    "        if df.empty:\n",
    "            print(f\"No se encontraron datos para {symbol} en el período especificado.\")\n",
    "            return None\n",
    "        \n",
    "        return df\n",
    "    except Exception as e:\n",
    "        print(f\"Error al obtener datos para {symbol}: {e}\")\n",
    "        return None\n",
    "\n",
    "# Uso\n",
    "simbolo = 'TSLA'\n",
    "datos_tesla = get_stock_data(simbolo)\n",
    "\n",
    "if datos_tesla is not None:\n",
    "    print(datos_tesla.head())\n",
    "else:\n",
    "    print(\"No se pudieron obtener los datos. Verifica el símbolo o intenta con un período diferente.\")"
   ]
  }
 ],
 "metadata": {
  "kernelspec": {
   "display_name": "Python 3",
   "language": "python",
   "name": "python3"
  },
  "language_info": {
   "codemirror_mode": {
    "name": "ipython",
    "version": 3
   },
   "file_extension": ".py",
   "mimetype": "text/x-python",
   "name": "python",
   "nbconvert_exporter": "python",
   "pygments_lexer": "ipython3",
   "version": "3.12.3"
  }
 },
 "nbformat": 4,
 "nbformat_minor": 2
}
